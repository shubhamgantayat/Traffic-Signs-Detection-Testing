{
 "cells": [
  {
   "cell_type": "code",
   "execution_count": 57,
   "id": "31e401b8",
   "metadata": {},
   "outputs": [],
   "source": [
    "import numpy as np\n",
    "import pandas as pd\n",
    "import cv2\n",
    "import matplotlib.pyplot as plt\n",
    "from pathlib import Path\n",
    "import os\n",
    "from tqdm import tqdm\n",
    "import pickle\n",
    "from copy import deepcopy\n",
    "import uuid\n",
    "from urllib.request import urlretrieve\n",
    "from zipfile import ZipFile"
   ]
  },
  {
   "cell_type": "code",
   "execution_count": 92,
   "id": "f21f93bd",
   "metadata": {},
   "outputs": [],
   "source": [
    "ZIP_TRAIN_PATH = \"../raw_data/train.pickle.zip\"\n",
    "ZIP_VALID_PATH = \"../raw_data/valid.pickle.zip\"\n",
    "ZIP_TEST_PATH = \"../raw_data/test.pickle.zip\""
   ]
  },
  {
   "cell_type": "code",
   "execution_count": 93,
   "id": "f2eb9a92",
   "metadata": {},
   "outputs": [],
   "source": [
    "def unzip_file(src, dest):\n",
    "    with ZipFile(src, \"r\") as f:\n",
    "        f.extractall(dest)"
   ]
  },
  {
   "cell_type": "code",
   "execution_count": 95,
   "id": "231b236b",
   "metadata": {},
   "outputs": [],
   "source": [
    "unzip_file(ZIP_TRAIN_PATH, \"../raw_data/\")\n",
    "unzip_file(ZIP_VALID_PATH, \"../raw_data/\")\n",
    "unzip_file(ZIP_TEST_PATH, \"../raw_data/\")"
   ]
  },
  {
   "cell_type": "code",
   "execution_count": null,
   "id": "4a5efbca",
   "metadata": {},
   "outputs": [],
   "source": []
  },
  {
   "cell_type": "code",
   "execution_count": 58,
   "id": "a5bdd472",
   "metadata": {},
   "outputs": [],
   "source": [
    "TRAIN_PATH = \"../raw_data/train.pickle\"\n",
    "VALID_PATH = \"../raw_data/valid.pickle\"\n",
    "TEST_PATH = \"../raw_data/test.pickle\""
   ]
  },
  {
   "cell_type": "code",
   "execution_count": 59,
   "id": "dfc0ff49",
   "metadata": {},
   "outputs": [],
   "source": [
    "def load_file(path):\n",
    "    with open(path, 'rb') as f:\n",
    "        d = pickle.load(f, encoding='latin1')  \n",
    "    x = d['features'].astype(np.uint8)   # 4D numpy.ndarray type, for train = (34799, 32, 32, 3)\n",
    "    y = d['labels']                        # 1D numpy.ndarray type, for train = (34799,)\n",
    "    s = d['sizes']                         # 2D numpy.ndarray type, for train = (34799, 2)\n",
    "    c = d['coords']  \n",
    "    return x, y, s, c\n"
   ]
  },
  {
   "cell_type": "code",
   "execution_count": 60,
   "id": "9e728368",
   "metadata": {},
   "outputs": [],
   "source": [
    "train_data, valid_data, test_data = {}, {}, {}\n",
    "train_data[\"x\"], train_data[\"y\"], _, train_data[\"c\"] = load_file(TRAIN_PATH)\n",
    "valid_data[\"x\"], valid_data[\"y\"], _, valid_data[\"c\"] = load_file(VALID_PATH)\n",
    "test_data[\"x\"], test_data[\"y\"], _, test_data[\"c\"] = load_file(TEST_PATH)"
   ]
  },
  {
   "cell_type": "code",
   "execution_count": 61,
   "id": "77a3c6f3",
   "metadata": {},
   "outputs": [],
   "source": [
    "def display(img, coordinates):\n",
    "    new_img = cv2.cvtColor(img, cv2.COLOR_RGB2BGR)\n",
    "    cv2.rectangle(new_img, \n",
    "                  (coordinates[0], coordinates[1]),\n",
    "                  (coordinates[0] + coordinates[2], coordinates[1] + coordinates[3]),\n",
    "                  (255,0,0),\n",
    "                  1\n",
    "                 )\n",
    "    while True:\n",
    "        cv2.imshow(\"img\", new_img)\n",
    "        if cv2.waitKey(0) & 0xFF == 27:\n",
    "            cv2.destroyAllWindows()\n",
    "            break"
   ]
  },
  {
   "cell_type": "code",
   "execution_count": 62,
   "id": "a4923d9d",
   "metadata": {},
   "outputs": [],
   "source": [
    "# display(train_data[\"x\"][4000], train_data[\"c\"][4000])"
   ]
  },
  {
   "cell_type": "code",
   "execution_count": 63,
   "id": "dae9e1d4",
   "metadata": {},
   "outputs": [],
   "source": [
    "labels = pd.read_csv(\"../raw_data/label_names.csv\")"
   ]
  },
  {
   "cell_type": "code",
   "execution_count": 64,
   "id": "21c1b079",
   "metadata": {},
   "outputs": [
    {
     "data": {
      "text/html": [
       "<div>\n",
       "<style scoped>\n",
       "    .dataframe tbody tr th:only-of-type {\n",
       "        vertical-align: middle;\n",
       "    }\n",
       "\n",
       "    .dataframe tbody tr th {\n",
       "        vertical-align: top;\n",
       "    }\n",
       "\n",
       "    .dataframe thead th {\n",
       "        text-align: right;\n",
       "    }\n",
       "</style>\n",
       "<table border=\"1\" class=\"dataframe\">\n",
       "  <thead>\n",
       "    <tr style=\"text-align: right;\">\n",
       "      <th></th>\n",
       "      <th>ClassId</th>\n",
       "      <th>SignName</th>\n",
       "    </tr>\n",
       "  </thead>\n",
       "  <tbody>\n",
       "    <tr>\n",
       "      <th>0</th>\n",
       "      <td>0</td>\n",
       "      <td>Speed limit (20km/h)</td>\n",
       "    </tr>\n",
       "    <tr>\n",
       "      <th>1</th>\n",
       "      <td>1</td>\n",
       "      <td>Speed limit (30km/h)</td>\n",
       "    </tr>\n",
       "    <tr>\n",
       "      <th>2</th>\n",
       "      <td>2</td>\n",
       "      <td>Speed limit (50km/h)</td>\n",
       "    </tr>\n",
       "    <tr>\n",
       "      <th>3</th>\n",
       "      <td>3</td>\n",
       "      <td>Speed limit (60km/h)</td>\n",
       "    </tr>\n",
       "    <tr>\n",
       "      <th>4</th>\n",
       "      <td>4</td>\n",
       "      <td>Speed limit (70km/h)</td>\n",
       "    </tr>\n",
       "    <tr>\n",
       "      <th>5</th>\n",
       "      <td>5</td>\n",
       "      <td>Speed limit (80km/h)</td>\n",
       "    </tr>\n",
       "    <tr>\n",
       "      <th>6</th>\n",
       "      <td>6</td>\n",
       "      <td>End of speed limit (80km/h)</td>\n",
       "    </tr>\n",
       "    <tr>\n",
       "      <th>7</th>\n",
       "      <td>7</td>\n",
       "      <td>Speed limit (100km/h)</td>\n",
       "    </tr>\n",
       "    <tr>\n",
       "      <th>8</th>\n",
       "      <td>8</td>\n",
       "      <td>Speed limit (120km/h)</td>\n",
       "    </tr>\n",
       "    <tr>\n",
       "      <th>9</th>\n",
       "      <td>9</td>\n",
       "      <td>No passing</td>\n",
       "    </tr>\n",
       "    <tr>\n",
       "      <th>10</th>\n",
       "      <td>10</td>\n",
       "      <td>No passing for vehicles over 3.5 metric tons</td>\n",
       "    </tr>\n",
       "    <tr>\n",
       "      <th>11</th>\n",
       "      <td>11</td>\n",
       "      <td>Right-of-way at the next intersection</td>\n",
       "    </tr>\n",
       "    <tr>\n",
       "      <th>12</th>\n",
       "      <td>12</td>\n",
       "      <td>Priority road</td>\n",
       "    </tr>\n",
       "    <tr>\n",
       "      <th>13</th>\n",
       "      <td>13</td>\n",
       "      <td>Yield</td>\n",
       "    </tr>\n",
       "    <tr>\n",
       "      <th>14</th>\n",
       "      <td>14</td>\n",
       "      <td>Stop</td>\n",
       "    </tr>\n",
       "    <tr>\n",
       "      <th>15</th>\n",
       "      <td>15</td>\n",
       "      <td>No vehicles</td>\n",
       "    </tr>\n",
       "    <tr>\n",
       "      <th>16</th>\n",
       "      <td>16</td>\n",
       "      <td>Vehicles over 3.5 metric tons prohibited</td>\n",
       "    </tr>\n",
       "    <tr>\n",
       "      <th>17</th>\n",
       "      <td>17</td>\n",
       "      <td>No entry</td>\n",
       "    </tr>\n",
       "    <tr>\n",
       "      <th>18</th>\n",
       "      <td>18</td>\n",
       "      <td>General caution</td>\n",
       "    </tr>\n",
       "    <tr>\n",
       "      <th>19</th>\n",
       "      <td>19</td>\n",
       "      <td>Dangerous curve to the left</td>\n",
       "    </tr>\n",
       "    <tr>\n",
       "      <th>20</th>\n",
       "      <td>20</td>\n",
       "      <td>Dangerous curve to the right</td>\n",
       "    </tr>\n",
       "    <tr>\n",
       "      <th>21</th>\n",
       "      <td>21</td>\n",
       "      <td>Double curve</td>\n",
       "    </tr>\n",
       "    <tr>\n",
       "      <th>22</th>\n",
       "      <td>22</td>\n",
       "      <td>Bumpy road</td>\n",
       "    </tr>\n",
       "    <tr>\n",
       "      <th>23</th>\n",
       "      <td>23</td>\n",
       "      <td>Slippery road</td>\n",
       "    </tr>\n",
       "    <tr>\n",
       "      <th>24</th>\n",
       "      <td>24</td>\n",
       "      <td>Road narrows on the right</td>\n",
       "    </tr>\n",
       "    <tr>\n",
       "      <th>25</th>\n",
       "      <td>25</td>\n",
       "      <td>Road work</td>\n",
       "    </tr>\n",
       "    <tr>\n",
       "      <th>26</th>\n",
       "      <td>26</td>\n",
       "      <td>Traffic signals</td>\n",
       "    </tr>\n",
       "    <tr>\n",
       "      <th>27</th>\n",
       "      <td>27</td>\n",
       "      <td>Pedestrians</td>\n",
       "    </tr>\n",
       "    <tr>\n",
       "      <th>28</th>\n",
       "      <td>28</td>\n",
       "      <td>Children crossing</td>\n",
       "    </tr>\n",
       "    <tr>\n",
       "      <th>29</th>\n",
       "      <td>29</td>\n",
       "      <td>Bicycles crossing</td>\n",
       "    </tr>\n",
       "    <tr>\n",
       "      <th>30</th>\n",
       "      <td>30</td>\n",
       "      <td>Beware of ice/snow</td>\n",
       "    </tr>\n",
       "    <tr>\n",
       "      <th>31</th>\n",
       "      <td>31</td>\n",
       "      <td>Wild animals crossing</td>\n",
       "    </tr>\n",
       "    <tr>\n",
       "      <th>32</th>\n",
       "      <td>32</td>\n",
       "      <td>End of all speed and passing limits</td>\n",
       "    </tr>\n",
       "    <tr>\n",
       "      <th>33</th>\n",
       "      <td>33</td>\n",
       "      <td>Turn right ahead</td>\n",
       "    </tr>\n",
       "    <tr>\n",
       "      <th>34</th>\n",
       "      <td>34</td>\n",
       "      <td>Turn left ahead</td>\n",
       "    </tr>\n",
       "    <tr>\n",
       "      <th>35</th>\n",
       "      <td>35</td>\n",
       "      <td>Ahead only</td>\n",
       "    </tr>\n",
       "    <tr>\n",
       "      <th>36</th>\n",
       "      <td>36</td>\n",
       "      <td>Go straight or right</td>\n",
       "    </tr>\n",
       "    <tr>\n",
       "      <th>37</th>\n",
       "      <td>37</td>\n",
       "      <td>Go straight or left</td>\n",
       "    </tr>\n",
       "    <tr>\n",
       "      <th>38</th>\n",
       "      <td>38</td>\n",
       "      <td>Keep right</td>\n",
       "    </tr>\n",
       "    <tr>\n",
       "      <th>39</th>\n",
       "      <td>39</td>\n",
       "      <td>Keep left</td>\n",
       "    </tr>\n",
       "    <tr>\n",
       "      <th>40</th>\n",
       "      <td>40</td>\n",
       "      <td>Roundabout mandatory</td>\n",
       "    </tr>\n",
       "    <tr>\n",
       "      <th>41</th>\n",
       "      <td>41</td>\n",
       "      <td>End of no passing</td>\n",
       "    </tr>\n",
       "    <tr>\n",
       "      <th>42</th>\n",
       "      <td>42</td>\n",
       "      <td>End of no passing by vehicles over 3.5 metric ...</td>\n",
       "    </tr>\n",
       "  </tbody>\n",
       "</table>\n",
       "</div>"
      ],
      "text/plain": [
       "    ClassId                                           SignName\n",
       "0         0                               Speed limit (20km/h)\n",
       "1         1                               Speed limit (30km/h)\n",
       "2         2                               Speed limit (50km/h)\n",
       "3         3                               Speed limit (60km/h)\n",
       "4         4                               Speed limit (70km/h)\n",
       "5         5                               Speed limit (80km/h)\n",
       "6         6                        End of speed limit (80km/h)\n",
       "7         7                              Speed limit (100km/h)\n",
       "8         8                              Speed limit (120km/h)\n",
       "9         9                                         No passing\n",
       "10       10       No passing for vehicles over 3.5 metric tons\n",
       "11       11              Right-of-way at the next intersection\n",
       "12       12                                      Priority road\n",
       "13       13                                              Yield\n",
       "14       14                                               Stop\n",
       "15       15                                        No vehicles\n",
       "16       16           Vehicles over 3.5 metric tons prohibited\n",
       "17       17                                           No entry\n",
       "18       18                                    General caution\n",
       "19       19                        Dangerous curve to the left\n",
       "20       20                       Dangerous curve to the right\n",
       "21       21                                       Double curve\n",
       "22       22                                         Bumpy road\n",
       "23       23                                      Slippery road\n",
       "24       24                          Road narrows on the right\n",
       "25       25                                          Road work\n",
       "26       26                                    Traffic signals\n",
       "27       27                                        Pedestrians\n",
       "28       28                                  Children crossing\n",
       "29       29                                  Bicycles crossing\n",
       "30       30                                 Beware of ice/snow\n",
       "31       31                              Wild animals crossing\n",
       "32       32                End of all speed and passing limits\n",
       "33       33                                   Turn right ahead\n",
       "34       34                                    Turn left ahead\n",
       "35       35                                         Ahead only\n",
       "36       36                               Go straight or right\n",
       "37       37                                Go straight or left\n",
       "38       38                                         Keep right\n",
       "39       39                                          Keep left\n",
       "40       40                               Roundabout mandatory\n",
       "41       41                                  End of no passing\n",
       "42       42  End of no passing by vehicles over 3.5 metric ..."
      ]
     },
     "execution_count": 64,
     "metadata": {},
     "output_type": "execute_result"
    }
   ],
   "source": [
    "labels"
   ]
  },
  {
   "cell_type": "markdown",
   "id": "f4694f70",
   "metadata": {},
   "source": [
    "# Augmentation 1 - Local Histogram Equalization"
   ]
  },
  {
   "cell_type": "code",
   "execution_count": 65,
   "id": "755abe36",
   "metadata": {},
   "outputs": [],
   "source": [
    "def local_histogram_equalization(img):\n",
    "    new_img = np.zeros(img.shape, dtype=np.uint8)\n",
    "    new_img[:,:,0] = cv2.equalizeHist(img[:,:,0])\n",
    "    new_img[:,:,1] = cv2.equalizeHist(img[:,:,1])\n",
    "    new_img[:,:,2] = cv2.equalizeHist(img[:,:,2])\n",
    "    return new_img"
   ]
  },
  {
   "cell_type": "code",
   "execution_count": 66,
   "id": "651c6bd1",
   "metadata": {},
   "outputs": [],
   "source": [
    "new_img = local_histogram_equalization(train_data['x'][4000])"
   ]
  },
  {
   "cell_type": "code",
   "execution_count": 67,
   "id": "57869e96",
   "metadata": {},
   "outputs": [],
   "source": [
    "# display(new_img, train_data['c'][4000])"
   ]
  },
  {
   "cell_type": "markdown",
   "id": "7ff34723",
   "metadata": {},
   "source": [
    "# Augmentation 2 - Changing Brightness"
   ]
  },
  {
   "cell_type": "code",
   "execution_count": 68,
   "id": "2e1e6520",
   "metadata": {},
   "outputs": [],
   "source": [
    "def change_brightness(img):\n",
    "    img_hsv = cv2.cvtColor(img, cv2.COLOR_RGB2HSV)\n",
    "    img_hsv[:,:,2] = img_hsv[:,:,2] * (0.5 + np.random.uniform(size=(img_hsv.shape[:-1])))\n",
    "    img_rgb = cv2.cvtColor(img_hsv, cv2.COLOR_HSV2RGB)\n",
    "    return img_rgb"
   ]
  },
  {
   "cell_type": "code",
   "execution_count": 69,
   "id": "067b8c24",
   "metadata": {},
   "outputs": [],
   "source": [
    "new_img = change_brightness(train_data['x'][4000])"
   ]
  },
  {
   "cell_type": "code",
   "execution_count": 70,
   "id": "cf6d07ee",
   "metadata": {},
   "outputs": [],
   "source": [
    "# display(new_img, train_data['c'][4000])"
   ]
  },
  {
   "cell_type": "markdown",
   "id": "3159c5a4",
   "metadata": {},
   "source": [
    "# Augmentation 3 - Rotating Image"
   ]
  },
  {
   "cell_type": "code",
   "execution_count": 71,
   "id": "32429267",
   "metadata": {},
   "outputs": [],
   "source": [
    "def rotation_changing(image):\n",
    "    # Defining angle range\n",
    "    angle_range = 30\n",
    "    # Defining angle rotation\n",
    "    angle_rotation = np.random.uniform(angle_range) - angle_range / 2\n",
    "    # Getting shape of image\n",
    "    rows, columns, channels = image.shape\n",
    "    # Implementing rotation\n",
    "    # Calculating Affine Matrix\n",
    "    affine_matrix = cv2.getRotationMatrix2D((columns / 2, rows / 2), angle_rotation, 1)\n",
    "    # Warping original image with Affine Matrix\n",
    "    rotated_image = cv2.warpAffine(image, affine_matrix, (columns, rows))\n",
    "    # Returning rotated image\n",
    "    return rotated_image"
   ]
  },
  {
   "cell_type": "code",
   "execution_count": 72,
   "id": "7154d4dd",
   "metadata": {},
   "outputs": [],
   "source": [
    "new_img = rotation_changing(train_data['x'][4000])"
   ]
  },
  {
   "cell_type": "code",
   "execution_count": 73,
   "id": "76f469e4",
   "metadata": {},
   "outputs": [],
   "source": [
    "# display(new_img, train_data['c'][4000])"
   ]
  },
  {
   "cell_type": "markdown",
   "id": "64f257c8",
   "metadata": {},
   "source": [
    "# Preprocessing Data"
   ]
  },
  {
   "cell_type": "code",
   "execution_count": 74,
   "id": "80035f4d",
   "metadata": {},
   "outputs": [],
   "source": [
    "def shuffle(data, seed=0):\n",
    "    new_data = deepcopy(data)\n",
    "    np.random.seed(seed)\n",
    "    np.random.shuffle(new_data[\"x\"])\n",
    "    np.random.seed(seed)\n",
    "    np.random.shuffle(new_data[\"y\"])\n",
    "    np.random.seed(seed)\n",
    "    np.random.shuffle(new_data[\"c\"])\n",
    "    return new_data"
   ]
  },
  {
   "cell_type": "code",
   "execution_count": 75,
   "id": "de1a50d2",
   "metadata": {},
   "outputs": [],
   "source": [
    "def preprocess(data, shuffle=False, lhe=False, rotate=False, brightness=False):\n",
    "    if shuffle:\n",
    "        data = shuffle(data)\n",
    "    if lhe:\n",
    "        data[\"x\"] = list(map(local_histogram_equalization, tqdm(data[\"x\"])))\n",
    "    if rotate:\n",
    "        data[\"x\"] = list(map(rotation_changing, tqdm(data[\"x\"])))\n",
    "    if brightness:\n",
    "        data[\"x\"] = list(map(rotation_changing, tqdm(data[\"x\"])))\n",
    "    return data"
   ]
  },
  {
   "cell_type": "code",
   "execution_count": 76,
   "id": "ef40de0a",
   "metadata": {},
   "outputs": [],
   "source": [
    "def join_data(data, augmented_data):\n",
    "    data[\"x\"] = np.r_[data[\"x\"], augmented_data[\"x\"]]\n",
    "    data[\"y\"] = np.r_[data[\"y\"], augmented_data[\"y\"]]\n",
    "    data[\"c\"] = np.r_[data[\"c\"], augmented_data[\"c\"]]\n",
    "    return data"
   ]
  },
  {
   "cell_type": "code",
   "execution_count": 77,
   "id": "4f54e30e",
   "metadata": {},
   "outputs": [],
   "source": [
    "def generate_augmented_data(data):\n",
    "    augmented_data = None\n",
    "    list_kwargs = [\n",
    "        {\"shuffle\": False, \"lhe\": True, \"rotate\": False, \"brightness\": False},\n",
    "        {\"shuffle\": False, \"lhe\": False, \"rotate\": True, \"brightness\": False},\n",
    "        {\"shuffle\": False, \"lhe\": False, \"rotate\": False, \"brightness\": True},\n",
    "        {\"shuffle\": False, \"lhe\": True, \"rotate\": True, \"brightness\": False},\n",
    "        {\"shuffle\": False, \"lhe\": True, \"rotate\": False, \"brightness\": True},\n",
    "        {\"shuffle\": False, \"lhe\": False, \"rotate\": True, \"brightness\": True},\n",
    "        {\"shuffle\": False, \"lhe\": True, \"rotate\": True, \"brightness\": True}\n",
    "    ]\n",
    "    for kwargs in list_kwargs:\n",
    "        data = shuffle(data, np.random.randint(0,100))\n",
    "        data_top = {}\n",
    "        data_top[\"x\"] = data[\"x\"][:int(0.2*len(data[\"x\"]))]\n",
    "        data_top[\"y\"] = data[\"y\"][:int(0.2*len(data[\"x\"]))]\n",
    "        data_top[\"c\"] = data[\"c\"][:int(0.2*len(data[\"x\"]))]\n",
    "        new_data = preprocess(data_top, **kwargs)\n",
    "        if augmented_data is None:\n",
    "            augmented_data = new_data\n",
    "        else:\n",
    "            augmented_data = join_data(new_data, augmented_data)\n",
    "    return join_data(new_data, augmented_data)"
   ]
  },
  {
   "cell_type": "code",
   "execution_count": 78,
   "id": "24195fcf",
   "metadata": {},
   "outputs": [
    {
     "name": "stderr",
     "output_type": "stream",
     "text": [
      "100%|███████████████████████████████████████████████████████████████████████████| 6959/6959 [00:00<00:00, 12541.80it/s]\n",
      "100%|████████████████████████████████████████████████████████████████████████████| 6959/6959 [00:00<00:00, 9129.31it/s]\n",
      "100%|████████████████████████████████████████████████████████████████████████████| 6959/6959 [00:00<00:00, 7024.75it/s]\n",
      "100%|███████████████████████████████████████████████████████████████████████████| 6959/6959 [00:00<00:00, 11315.46it/s]\n",
      "100%|████████████████████████████████████████████████████████████████████████████| 6959/6959 [00:00<00:00, 8155.66it/s]\n",
      "100%|███████████████████████████████████████████████████████████████████████████| 6959/6959 [00:00<00:00, 13346.77it/s]\n",
      "100%|████████████████████████████████████████████████████████████████████████████| 6959/6959 [00:00<00:00, 9701.07it/s]\n",
      "100%|████████████████████████████████████████████████████████████████████████████| 6959/6959 [00:00<00:00, 9652.43it/s]\n",
      "100%|████████████████████████████████████████████████████████████████████████████| 6959/6959 [00:00<00:00, 7615.91it/s]\n",
      "100%|███████████████████████████████████████████████████████████████████████████| 6959/6959 [00:00<00:00, 14001.93it/s]\n",
      "100%|████████████████████████████████████████████████████████████████████████████| 6959/6959 [00:00<00:00, 9472.34it/s]\n",
      "100%|███████████████████████████████████████████████████████████████████████████| 6959/6959 [00:00<00:00, 10727.21it/s]\n",
      "100%|█████████████████████████████████████████████████████████████████████████████| 882/882 [00:00<00:00, 10888.84it/s]\n",
      "100%|██████████████████████████████████████████████████████████████████████████████| 882/882 [00:00<00:00, 5188.23it/s]\n",
      "100%|█████████████████████████████████████████████████████████████████████████████| 882/882 [00:00<00:00, 11165.00it/s]\n",
      "100%|█████████████████████████████████████████████████████████████████████████████| 882/882 [00:00<00:00, 12251.01it/s]\n",
      "100%|█████████████████████████████████████████████████████████████████████████████| 882/882 [00:00<00:00, 10256.42it/s]\n",
      "100%|█████████████████████████████████████████████████████████████████████████████| 882/882 [00:00<00:00, 16962.92it/s]\n",
      "100%|█████████████████████████████████████████████████████████████████████████████| 882/882 [00:00<00:00, 10997.51it/s]\n",
      "100%|█████████████████████████████████████████████████████████████████████████████| 882/882 [00:00<00:00, 12082.12it/s]\n",
      "100%|█████████████████████████████████████████████████████████████████████████████| 882/882 [00:00<00:00, 10070.63it/s]\n",
      "100%|█████████████████████████████████████████████████████████████████████████████| 882/882 [00:00<00:00, 15470.60it/s]\n",
      "100%|█████████████████████████████████████████████████████████████████████████████| 882/882 [00:00<00:00, 10139.81it/s]\n",
      "100%|██████████████████████████████████████████████████████████████████████████████| 882/882 [00:00<00:00, 7669.76it/s]\n"
     ]
    }
   ],
   "source": [
    "augmented_train_data = generate_augmented_data(train_data)\n",
    "augmented_valid_data = generate_augmented_data(valid_data)"
   ]
  },
  {
   "cell_type": "markdown",
   "id": "be01d314",
   "metadata": {},
   "source": [
    "# Labelling Of Data"
   ]
  },
  {
   "cell_type": "code",
   "execution_count": 79,
   "id": "4b7a9cd8",
   "metadata": {},
   "outputs": [],
   "source": [
    "def convert_coordinates_to_yolo_annotation(coordinates, label, shape):\n",
    "    dh, dw, _ = shape\n",
    "    x,y,w,h = coordinates\n",
    "    x_final = x + w if x + w < dw else dw\n",
    "    y_final = y + h if y + h < dh else dh\n",
    "    x_mean = (x + x_final) / (dw * 2)\n",
    "    y_mean = (y + y_final) / (dh * 2)\n",
    "    w_norm = (x_final - x) / dw\n",
    "    h_norm = (y_final - y) / dh\n",
    "    return [\" \".join([str(label), str(x_mean), str(y_mean), str(w_norm), str(h_norm)])]\n",
    "\n",
    "def convert_yolo_annotations_to_coordinates(annotation, shape):\n",
    "    dh, dw, _ = shape\n",
    "    _, x, y, w, h = [float(i) for i in annotation[0].strip().split()]\n",
    "    x_start = (x - w / 2) * dw\n",
    "    y_start = (y - h / 2) * dh\n",
    "    return np.array([x_start, y_start, w * dw, h * dh], dtype=np.uint8)"
   ]
  },
  {
   "cell_type": "code",
   "execution_count": 80,
   "id": "b4143943",
   "metadata": {},
   "outputs": [],
   "source": [
    "annotation = convert_coordinates_to_yolo_annotation(train_data['c'][4000],\n",
    "                                       train_data['y'][4000],\n",
    "                                       train_data['x'][4000].shape\n",
    "                                      )"
   ]
  },
  {
   "cell_type": "code",
   "execution_count": 81,
   "id": "7c03831b",
   "metadata": {},
   "outputs": [],
   "source": [
    "new_coords = convert_yolo_annotations_to_coordinates(annotation, train_data['x'][4000].shape)"
   ]
  },
  {
   "cell_type": "code",
   "execution_count": 82,
   "id": "06bd369e",
   "metadata": {},
   "outputs": [],
   "source": [
    "# display(train_data['x'][4000] ,new_coords)"
   ]
  },
  {
   "cell_type": "markdown",
   "id": "58b85b05",
   "metadata": {},
   "source": [
    "# Saving new data to file "
   ]
  },
  {
   "cell_type": "code",
   "execution_count": 83,
   "id": "574c37d3",
   "metadata": {},
   "outputs": [],
   "source": [
    "def create_directory_structure(root):\n",
    "    try:\n",
    "        os.makedirs(root, exist_ok=True)\n",
    "        folders = [\"train\", \"valid\", \"test\"]\n",
    "        for folder in folders:\n",
    "            path_to_folder = root / folder\n",
    "            os.makedirs(path_to_folder, exist_ok=True)\n",
    "            os.makedirs(path_to_folder / \"images\", exist_ok=True)\n",
    "            os.makedirs(path_to_folder / \"labels\", exist_ok=True)\n",
    "        return True\n",
    "    except:\n",
    "        return False"
   ]
  },
  {
   "cell_type": "code",
   "execution_count": 84,
   "id": "b7a9dfa1",
   "metadata": {},
   "outputs": [
    {
     "data": {
      "text/plain": [
       "True"
      ]
     },
     "execution_count": 84,
     "metadata": {},
     "output_type": "execute_result"
    }
   ],
   "source": [
    "ROOT_DIR = Path(\"../data/\")\n",
    "create_directory_structure(ROOT_DIR)"
   ]
  },
  {
   "cell_type": "code",
   "execution_count": 85,
   "id": "59b446f8",
   "metadata": {},
   "outputs": [],
   "source": [
    "def save_images_and_labels(path, img, label, coordinates):\n",
    "    try:\n",
    "        name = str(uuid.uuid1())\n",
    "        img_name = name + \".jpg\"\n",
    "        label_name = name + \".txt\"\n",
    "        img_path = path / \"images\" / img_name\n",
    "        label_path = path / \"labels\" / label_name\n",
    "        cv2.imwrite(str(img_path), img)\n",
    "        with open(label_path, \"w\") as f:\n",
    "            f.writelines(convert_coordinates_to_yolo_annotation(coordinates, labels, img.shape))\n",
    "        return True\n",
    "    except Exception as e:\n",
    "        return str(e)"
   ]
  },
  {
   "cell_type": "code",
   "execution_count": 86,
   "id": "5a0212d0",
   "metadata": {},
   "outputs": [
    {
     "name": "stderr",
     "output_type": "stream",
     "text": [
      "100%|███████████████████████████████████████████████████████████████████████████| 97426/97426 [12:49<00:00, 126.61it/s]\n",
      "100%|███████████████████████████████████████████████████████████████████████████| 12348/12348 [01:31<00:00, 134.58it/s]\n",
      " 22%|█████████████████                                                           | 2839/12630 [00:18<00:56, 173.42it/s]C:\\Users\\ASUS\\AppData\\Local\\Temp\\ipykernel_6732\\4090696388.py:4: RuntimeWarning: overflow encountered in ubyte_scalars\n",
      "  x_final = x + w if x + w < dw else dw\n",
      "C:\\Users\\ASUS\\AppData\\Local\\Temp\\ipykernel_6732\\4090696388.py:8: RuntimeWarning: overflow encountered in ubyte_scalars\n",
      "  w_norm = (x_final - x) / dw\n",
      " 50%|██████████████████████████████████████▎                                     | 6373/12630 [00:41<00:38, 161.42it/s]C:\\Users\\ASUS\\AppData\\Local\\Temp\\ipykernel_6732\\4090696388.py:4: RuntimeWarning: overflow encountered in ubyte_scalars\n",
      "  x_final = x + w if x + w < dw else dw\n",
      "C:\\Users\\ASUS\\AppData\\Local\\Temp\\ipykernel_6732\\4090696388.py:8: RuntimeWarning: overflow encountered in ubyte_scalars\n",
      "  w_norm = (x_final - x) / dw\n",
      " 52%|███████████████████████████████████████▋                                    | 6600/12630 [00:42<00:36, 166.34it/s]C:\\Users\\ASUS\\AppData\\Local\\Temp\\ipykernel_6732\\4090696388.py:4: RuntimeWarning: overflow encountered in ubyte_scalars\n",
      "  x_final = x + w if x + w < dw else dw\n",
      "C:\\Users\\ASUS\\AppData\\Local\\Temp\\ipykernel_6732\\4090696388.py:8: RuntimeWarning: overflow encountered in ubyte_scalars\n",
      "  w_norm = (x_final - x) / dw\n",
      "100%|███████████████████████████████████████████████████████████████████████████| 12630/12630 [01:23<00:00, 152.16it/s]\n"
     ]
    }
   ],
   "source": [
    "TRAIN_FOLDER = ROOT_DIR / \"train\"\n",
    "VALID_FOLDER = ROOT_DIR / \"valid\"\n",
    "TEST_FOLDER = ROOT_DIR / \"test\"\n",
    "train_result = list(map(lambda img, label, coordinates:save_images_and_labels(TRAIN_FOLDER, img, label, coordinates), tqdm(augmented_train_data[\"x\"]), augmented_train_data[\"y\"], augmented_train_data[\"c\"]))   \n",
    "valid_result = list(map(lambda img, label, coordinates:save_images_and_labels(VALID_FOLDER, img, label, coordinates), tqdm(augmented_valid_data[\"x\"]), augmented_valid_data[\"y\"], augmented_valid_data[\"c\"]))    \n",
    "test_result = list(map(lambda img, label, coordinates:save_images_and_labels(TEST_FOLDER, img, label, coordinates), tqdm(test_data[\"x\"]), test_data[\"y\"], test_data[\"c\"]))                           "
   ]
  },
  {
   "cell_type": "code",
   "execution_count": 87,
   "id": "375c792d",
   "metadata": {},
   "outputs": [
    {
     "name": "stdout",
     "output_type": "stream",
     "text": [
      "0\n"
     ]
    }
   ],
   "source": [
    "count = 0\n",
    "for i in test_result:\n",
    "    if i == False:\n",
    "        count += 1\n",
    "print(count)"
   ]
  },
  {
   "cell_type": "code",
   "execution_count": 88,
   "id": "1ee03425",
   "metadata": {},
   "outputs": [],
   "source": [
    "nc = len(labels)"
   ]
  },
  {
   "cell_type": "code",
   "execution_count": 89,
   "id": "854cd784",
   "metadata": {},
   "outputs": [
    {
     "data": {
      "text/plain": [
       "43"
      ]
     },
     "execution_count": 89,
     "metadata": {},
     "output_type": "execute_result"
    }
   ],
   "source": [
    "nc"
   ]
  },
  {
   "cell_type": "code",
   "execution_count": 90,
   "id": "6d1ddaeb",
   "metadata": {},
   "outputs": [],
   "source": [
    "classes = str(list(labels[\"SignName\"]))"
   ]
  },
  {
   "cell_type": "code",
   "execution_count": 91,
   "id": "0e8e4d39",
   "metadata": {},
   "outputs": [],
   "source": [
    "desc = f\"\"\"train: ../train/images\n",
    "val: ../valid/images\n",
    "test: ../test/images\n",
    "\n",
    "nc: {nc}\n",
    "names: {classes}\n",
    "\"\"\"\n",
    "\n",
    "with open(\"../data/data.yaml\", \"w\") as f:\n",
    "    f.write(desc)"
   ]
  },
  {
   "cell_type": "code",
   "execution_count": null,
   "id": "939d2062",
   "metadata": {},
   "outputs": [],
   "source": []
  }
 ],
 "metadata": {
  "kernelspec": {
   "display_name": "Python 3 (ipykernel)",
   "language": "python",
   "name": "python3"
  },
  "language_info": {
   "codemirror_mode": {
    "name": "ipython",
    "version": 3
   },
   "file_extension": ".py",
   "mimetype": "text/x-python",
   "name": "python",
   "nbconvert_exporter": "python",
   "pygments_lexer": "ipython3",
   "version": "3.9.6"
  }
 },
 "nbformat": 4,
 "nbformat_minor": 5
}
