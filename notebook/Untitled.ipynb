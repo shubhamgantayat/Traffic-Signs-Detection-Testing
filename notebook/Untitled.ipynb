{
 "cells": [
  {
   "cell_type": "code",
   "execution_count": 5,
   "id": "54abe0bd",
   "metadata": {},
   "outputs": [],
   "source": [
    "import numpy as np\n",
    "import pandas as pd\n",
    "from pathlib import Path\n",
    "import os\n",
    "import yaml\n",
    "import cv2\n",
    "from copy import deepcopy"
   ]
  },
  {
   "cell_type": "code",
   "execution_count": 6,
   "id": "c4e487ec",
   "metadata": {},
   "outputs": [],
   "source": [
    "LABELS_PATH = Path(\"../data/Custom_data.yaml\")\n",
    "with open(LABELS_PATH, \"r\") as f:\n",
    "    names = yaml.safe_load(f)[\"names\"]"
   ]
  },
  {
   "cell_type": "code",
   "execution_count": 7,
   "id": "07d3a887",
   "metadata": {},
   "outputs": [],
   "source": [
    "names = dict(enumerate(names))"
   ]
  },
  {
   "cell_type": "code",
   "execution_count": 8,
   "id": "27bfba03",
   "metadata": {},
   "outputs": [],
   "source": [
    "TRAIN_LABELS_PATH = Path(\"../data/TrafficSignLocalizationandDetection/train/labels/\")"
   ]
  },
  {
   "cell_type": "code",
   "execution_count": 9,
   "id": "376720c6",
   "metadata": {},
   "outputs": [],
   "source": [
    "def get_class(file):\n",
    "    with open(file, \"r\") as f:\n",
    "        l = f.readlines()\n",
    "    return int(l[0].strip().split()[0])"
   ]
  },
  {
   "cell_type": "code",
   "execution_count": 10,
   "id": "16a4d348",
   "metadata": {},
   "outputs": [],
   "source": [
    "classes = list(map(lambda x:get_class(TRAIN_LABELS_PATH / x), os.listdir(TRAIN_LABELS_PATH)))"
   ]
  },
  {
   "cell_type": "code",
   "execution_count": 11,
   "id": "2fa82891",
   "metadata": {},
   "outputs": [],
   "source": [
    "def get_count(classes):\n",
    "    count = dict()\n",
    "    for i in classes:\n",
    "        if names[i] not in count.keys():\n",
    "            count[names[i]] = 0\n",
    "        count[names[i]] += 1\n",
    "    return dict(sorted(count.items(), key=lambda x:x[1], reverse=True))"
   ]
  },
  {
   "cell_type": "code",
   "execution_count": 12,
   "id": "62604bd3",
   "metadata": {},
   "outputs": [],
   "source": [
    "count = get_count(classes)"
   ]
  },
  {
   "cell_type": "code",
   "execution_count": 13,
   "id": "52f65f35",
   "metadata": {},
   "outputs": [
    {
     "data": {
      "text/plain": [
       "{'Stop': 226,\n",
       " 'Speed Limit 30': 196,\n",
       " 'Speed Limit 80': 146,\n",
       " 'Speed Limit 50': 134,\n",
       " 'Speed Limit 70': 111,\n",
       " 'Speed Limit 60': 88,\n",
       " 'Turn Right': 64,\n",
       " 'Speed Limit 100': 56,\n",
       " 'No Entry': 42,\n",
       " 'Give Way': 38,\n",
       " 'Speed Limit 120': 38,\n",
       " 'Left Sharp Curve': 36,\n",
       " 'Right Sharp Curve': 33,\n",
       " 'Danger Ahead': 24,\n",
       " 'No Over Taking Trucks': 21,\n",
       " 'No Over Taking': 19,\n",
       " 'Road Work': 16,\n",
       " 'Go Straight': 15,\n",
       " 'Pedestrian': 13,\n",
       " 'Slippery Road': 13,\n",
       " 'Turn Left': 12,\n",
       " 'Traffic Signals Ahead': 8,\n",
       " 'Snow Warning Sign': 7,\n",
       " 'Huddle Road': 6,\n",
       " 'No Stopping': 5,\n",
       " 'No Waiting': 4,\n",
       " 'End of Right Road -Go straight-': 4,\n",
       " 'Truck Sign': 4,\n",
       " 'Go Right or Straight': 3,\n",
       " 'Speed Limit 20': 3,\n",
       " 'Right Curve Ahead': 2,\n",
       " 'Go Left or Straight': 1,\n",
       " 'Left Curve Ahead': 1,\n",
       " 'RoundAbout': 1,\n",
       " 'Cycle Zone': 1,\n",
       " 'Deer Zone': 1}"
      ]
     },
     "execution_count": 13,
     "metadata": {},
     "output_type": "execute_result"
    }
   ],
   "source": [
    "count"
   ]
  },
  {
   "cell_type": "code",
   "execution_count": 14,
   "id": "2cee1b1c",
   "metadata": {},
   "outputs": [
    {
     "data": {
      "text/plain": [
       "{'Stop': 31,\n",
       " 'Speed Limit 30': 21,\n",
       " 'Speed Limit 50': 18,\n",
       " 'Speed Limit 70': 14,\n",
       " 'Speed Limit 80': 14,\n",
       " 'Speed Limit 60': 12,\n",
       " 'Turn Right': 11,\n",
       " 'No Entry': 8,\n",
       " 'Speed Limit 100': 7,\n",
       " 'Road Work': 6,\n",
       " 'Danger Ahead': 6,\n",
       " 'Give Way': 5,\n",
       " 'Left Sharp Curve': 3,\n",
       " 'Right Sharp Curve': 3,\n",
       " 'Slippery Road': 2,\n",
       " 'Right Curve Ahead': 2,\n",
       " 'Speed Limit 120': 2,\n",
       " 'Snow Warning Sign': 1,\n",
       " 'Turn Left': 1,\n",
       " 'Truck Sign': 1,\n",
       " 'No Over Taking': 1,\n",
       " 'Pedestrian': 1,\n",
       " 'No Stopping': 1,\n",
       " 'Huddle Road': 1,\n",
       " 'Go Right or Straight': 1}"
      ]
     },
     "execution_count": 14,
     "metadata": {},
     "output_type": "execute_result"
    }
   ],
   "source": [
    "VALID_LABELS_PATH = Path(\"../data/TrafficSignLocalizationandDetection/valid//labels/\")\n",
    "classes = list(map(lambda x:get_class(VALID_LABELS_PATH / x), os.listdir(VALID_LABELS_PATH)))\n",
    "get_count(classes)"
   ]
  },
  {
   "cell_type": "markdown",
   "id": "44ae1380",
   "metadata": {},
   "source": [
    "# Common utils"
   ]
  },
  {
   "cell_type": "code",
   "execution_count": 15,
   "id": "a84ab8e0",
   "metadata": {},
   "outputs": [],
   "source": [
    "def display(img, coordinates):\n",
    "    new_img = deepcopy(img)\n",
    "    cv2.rectangle(new_img, \n",
    "                  (coordinates[0], coordinates[1]),\n",
    "                  (coordinates[0] + coordinates[2], coordinates[1] + coordinates[3]),\n",
    "                  (255,0,0),\n",
    "                  1\n",
    "                 )\n",
    "    while True:\n",
    "        cv2.imshow(\"img\", new_img)\n",
    "        if cv2.waitKey(0) & 0xFF == 27:\n",
    "            cv2.destroyAllWindows()\n",
    "            break"
   ]
  },
  {
   "cell_type": "code",
   "execution_count": 16,
   "id": "035a1895",
   "metadata": {},
   "outputs": [],
   "source": [
    "def convert_coordinates_to_yolo_annotation(coordinates, label, shape):\n",
    "    dh, dw, _ = shape\n",
    "    x,y,w,h = coordinates\n",
    "    x_final = x + w if x + w < dw else dw\n",
    "    y_final = y + h if y + h < dh else dh\n",
    "    x_mean = (x + x_final) / (dw * 2)\n",
    "    y_mean = (y + y_final) / (dh * 2)\n",
    "    w_norm = (x_final - x) / dw\n",
    "    h_norm = (y_final - y) / dh\n",
    "    return [\" \".join([str(label), str(x_mean), str(y_mean), str(w_norm), str(h_norm)])]\n",
    "\n",
    "def convert_yolo_annotations_to_coordinates(annotation, shape):\n",
    "    dh, dw, _ = shape\n",
    "    _, x, y, w, h = [float(i) for i in annotation[0].strip().split()]\n",
    "    x_start = (x - w / 2) * dw\n",
    "    y_start = (y - h / 2) * dh\n",
    "    return np.array([x_start, y_start, w * dw, h * dh], dtype=np.uint8)"
   ]
  },
  {
   "cell_type": "code",
   "execution_count": 17,
   "id": "3971885d",
   "metadata": {},
   "outputs": [],
   "source": [
    "def get_labels_from_file(path):\n",
    "    with open(path, \"r\") as f:\n",
    "        l = f.readlines()\n",
    "    return l"
   ]
  },
  {
   "cell_type": "markdown",
   "id": "b267e4ba",
   "metadata": {},
   "source": [
    "# Augmentation 1 - Local Histogram Equalization"
   ]
  },
  {
   "cell_type": "code",
   "execution_count": 18,
   "id": "d032712d",
   "metadata": {},
   "outputs": [],
   "source": [
    "def local_histogram_equalization(img):\n",
    "    new_img = np.zeros(img.shape, dtype=np.uint8)\n",
    "    new_img[:,:,0] = cv2.equalizeHist(img[:,:,0])\n",
    "    new_img[:,:,1] = cv2.equalizeHist(img[:,:,1])\n",
    "    new_img[:,:,2] = cv2.equalizeHist(img[:,:,2])\n",
    "    return new_img"
   ]
  },
  {
   "cell_type": "code",
   "execution_count": 19,
   "id": "17193cf0",
   "metadata": {},
   "outputs": [],
   "source": [
    "img = cv2.imread(\"../data/TrafficSignLocalizationandDetection/train/images/000001_jpg.rf.4f8eac6747a989e40bff9c86bc5d97be.jpg\")\n",
    "labels = get_labels_from_file(\"../data/TrafficSignLocalizationandDetection/train/labels/000001_jpg.rf.4f8eac6747a989e40bff9c86bc5d97be.txt\")"
   ]
  },
  {
   "cell_type": "code",
   "execution_count": 20,
   "id": "24b61c59",
   "metadata": {},
   "outputs": [],
   "source": [
    "coordinates = convert_yolo_annotations_to_coordinates(labels, img.shape)"
   ]
  },
  {
   "cell_type": "code",
   "execution_count": 17,
   "id": "98b01eb1",
   "metadata": {},
   "outputs": [],
   "source": [
    "display(local_histogram_equalization(img), coordinates)"
   ]
  },
  {
   "cell_type": "markdown",
   "id": "a424ec7a",
   "metadata": {},
   "source": [
    "# Augmentation 2 - Changing Brightness"
   ]
  },
  {
   "cell_type": "code",
   "execution_count": 33,
   "id": "49509aea",
   "metadata": {},
   "outputs": [],
   "source": [
    "def change_brightness(img, low=0.3, high=10):\n",
    "    value = np.random.uniform(low, high)\n",
    "    hsv = cv2.cvtColor(img, cv2.COLOR_BGR2HSV)\n",
    "    hsv = np.array(hsv, dtype = np.float64)\n",
    "    hsv[:,:,1] = hsv[:,:,1]*value\n",
    "    hsv[:,:,1][hsv[:,:,1]>255]  = 255\n",
    "    hsv[:,:,2] = hsv[:,:,2]*value \n",
    "    hsv[:,:,2][hsv[:,:,2]>255]  = 255\n",
    "    hsv = np.array(hsv, dtype = np.uint8)\n",
    "    img = cv2.cvtColor(hsv, cv2.COLOR_HSV2BGR)\n",
    "    return img"
   ]
  },
  {
   "cell_type": "code",
   "execution_count": 34,
   "id": "ec2609ba",
   "metadata": {},
   "outputs": [],
   "source": [
    "display(change_brightness(img), coordinates)"
   ]
  },
  {
   "cell_type": "markdown",
   "id": "8d0b8b29",
   "metadata": {},
   "source": [
    "# Augmentation 3 - Rotating Image"
   ]
  },
  {
   "cell_type": "code",
   "execution_count": 24,
   "id": "09d8f74d",
   "metadata": {},
   "outputs": [],
   "source": [
    "def rotation_changing(image):\n",
    "    # Defining angle range\n",
    "    angle_range = 25\n",
    "    # Defining angle rotation\n",
    "    angle_rotation = np.random.uniform(angle_range) - angle_range / 2\n",
    "    # Getting shape of image\n",
    "    rows, columns, channels = image.shape\n",
    "    # Implementing rotation\n",
    "    # Calculating Affine Matrix\n",
    "    affine_matrix = cv2.getRotationMatrix2D((columns / 2, rows / 2), angle_rotation, 1)\n",
    "    # Warping original image with Affine Matrix\n",
    "    rotated_image = cv2.warpAffine(image, affine_matrix, (columns, rows))\n",
    "    # Returning rotated image\n",
    "    return rotated_image"
   ]
  },
  {
   "cell_type": "code",
   "execution_count": 88,
   "id": "1d9fb744",
   "metadata": {},
   "outputs": [],
   "source": [
    "display(rotation_changing(img), coordinates)"
   ]
  },
  {
   "cell_type": "markdown",
   "id": "04062488",
   "metadata": {},
   "source": [
    "# Preprocessing data"
   ]
  },
  {
   "cell_type": "code",
   "execution_count": null,
   "id": "12baa5ef",
   "metadata": {},
   "outputs": [],
   "source": []
  }
 ],
 "metadata": {
  "kernelspec": {
   "display_name": "Python 3 (ipykernel)",
   "language": "python",
   "name": "python3"
  },
  "language_info": {
   "codemirror_mode": {
    "name": "ipython",
    "version": 3
   },
   "file_extension": ".py",
   "mimetype": "text/x-python",
   "name": "python",
   "nbconvert_exporter": "python",
   "pygments_lexer": "ipython3",
   "version": "3.7.6"
  }
 },
 "nbformat": 4,
 "nbformat_minor": 5
}
